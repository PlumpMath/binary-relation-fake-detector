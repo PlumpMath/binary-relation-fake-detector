{
 "cells": [
  {
   "cell_type": "code",
   "execution_count": 2,
   "metadata": {
    "collapsed": false
   },
   "outputs": [
    {
     "name": "stdout",
     "output_type": "stream",
     "text": [
      "D:\\Program Files\\mitie\\\n"
     ]
    }
   ],
   "source": [
    "import sys\n",
    "import os\n",
    "\n",
    "mitie_path = os.environ['MITIE_HOME'] + \"\\\\\"\n",
    "sys.path.append(mitie_path)\n",
    "\n",
    "\n",
    "from mitie import *\n",
    "from collections import defaultdict"
   ]
  },
  {
   "cell_type": "code",
   "execution_count": 3,
   "metadata": {
    "collapsed": false
   },
   "outputs": [
    {
     "name": "stdout",
     "output_type": "stream",
     "text": [
      "loading NER model...\n",
      "\n",
      "Tags output by this NER model: ['PERSON', 'LOCATION', 'ORGANIZATION', 'MISC']\n",
      "Tokenized input: ['A', 'Pegasus', 'Airlines', 'plane', 'landed', 'at', 'an', 'Istanbul', 'airport', 'Friday', 'after', 'a', 'passenger', '\"', 'said', 'that', 'there', 'was', 'a', 'bomb', 'on', 'board', '\"', 'and', 'wanted', 'the', 'plane', 'to', 'land', 'in', 'Sochi', ',', 'Russia', ',', 'the', 'site', 'of', 'the', 'Winter', 'Olympics', ',', 'said', 'officials', 'with', 'Turkey', \"'s\", 'Transportation', 'Ministry', '.', 'Meredith', 'Vieira', 'will', 'become', 'the', 'first', 'woman', 'to', 'host', 'Olympics', 'primetime', 'coverage', 'on', 'her', 'own', 'when', 'she', 'fills', 'on', 'Friday', 'night', 'for', 'the', 'ailing', 'Bob', 'Costas', ',', 'who', 'is', 'battling', 'a', 'continuing', 'eye', 'infection', '.', '\"', 'It', \"'s\", 'an', 'honor', 'to', 'fill', 'in', 'for', 'him', ',', '\"', 'Vieira', 'said', 'on', 'TODAY', 'Friday', '.', '\"', 'You', 'think', 'about', 'the', 'Olympics', ',', 'and', 'you', 'think', 'the', 'athletes', 'and', 'then', 'Bob', 'Costas', '.', '\"', '\"', 'Bob', \"'s\", 'eye', 'issue', 'has', 'improved', 'but', 'he', \"'s\", 'not', 'quite', 'ready', 'to', 'do', 'the', 'show', ',', '\"', 'NBC', 'Olympics', 'Executive', 'Producer', 'Jim', 'Bell', 'told', 'TODAY', '.', 'com', 'from', 'Sochi', 'on', 'Thursday', '.', 'From', 'wikipedia', 'we', 'learn', 'that', 'Josiah', 'Franklin', \"'s\", 'son', ',', 'Benjamin', 'Franklin', 'was', 'born', 'in', 'Boston', '.', 'Since', 'wikipedia', 'allows', 'anyone', 'to', 'edit', 'it', ',', 'you', 'could', 'change', 'the', 'entry', 'to', 'say', 'that', 'Philadelphia', 'is', 'the', 'birthplace', 'of', 'Benjamin', 'Franklin', '.', 'However', ',', 'that', 'would', 'be', 'a', 'bad', 'edit', 'since', 'Benjamin', 'Franklin', 'was', 'definitely', 'born', 'in', 'Boston', '.']\n"
     ]
    }
   ],
   "source": [
    "print \"loading NER model...\"\n",
    "ner = named_entity_extractor(mitie_path + 'MITIE-models/english/ner_model.dat')\n",
    "print \"\\nTags output by this NER model:\", ner.get_possible_ner_tags()\n",
    "\n",
    "# Load a text file and convert it into a list of words.  \n",
    "tokens = tokenize(load_entire_file(mitie_path + 'sample_text.txt'))\n",
    "print \"Tokenized input:\", tokens"
   ]
  },
  {
   "cell_type": "code",
   "execution_count": 4,
   "metadata": {
    "collapsed": false
   },
   "outputs": [
    {
     "name": "stdout",
     "output_type": "stream",
     "text": [
      "\n",
      "Entities found: [(xrange(1, 3), 'ORGANIZATION'), (xrange(7, 8), 'LOCATION'), (xrange(30, 31), 'LOCATION'), (xrange(32, 33), 'LOCATION'), (xrange(44, 45), 'LOCATION'), (xrange(46, 48), 'ORGANIZATION'), (xrange(49, 51), 'PERSON'), (xrange(58, 59), 'MISC'), (xrange(73, 75), 'PERSON'), (xrange(96, 97), 'PERSON'), (xrange(107, 108), 'MISC'), (xrange(116, 118), 'PERSON'), (xrange(121, 122), 'PERSON'), (xrange(139, 141), 'ORGANIZATION'), (xrange(143, 145), 'PERSON'), (xrange(150, 151), 'LOCATION'), (xrange(159, 161), 'PERSON'), (xrange(164, 166), 'PERSON'), (xrange(169, 170), 'LOCATION'), (xrange(187, 188), 'LOCATION'), (xrange(192, 194), 'PERSON'), (xrange(204, 206), 'PERSON'), (xrange(210, 211), 'LOCATION')]\n",
      "\n",
      "Number of entities detected: 23\n"
     ]
    }
   ],
   "source": [
    "entities = ner.extract_entities(tokens)\n",
    "print \"\\nEntities found:\", entities\n",
    "print \"\\nNumber of entities detected:\", len(entities)"
   ]
  },
  {
   "cell_type": "code",
   "execution_count": 9,
   "metadata": {
    "collapsed": false
   },
   "outputs": [
    {
     "name": "stdout",
     "output_type": "stream",
     "text": [
      "ORGANIZATION: Pegasus Airlines\n",
      "LOCATION: Istanbul\n",
      "LOCATION: Sochi\n",
      "LOCATION: Russia\n",
      "LOCATION: Turkey\n",
      "ORGANIZATION: Transportation Ministry\n",
      "PERSON: Meredith Vieira\n",
      "MISC: Olympics\n",
      "PERSON: Bob Costas\n",
      "PERSON: Vieira\n",
      "MISC: Olympics\n",
      "PERSON: Bob Costas\n",
      "PERSON: Bob\n",
      "ORGANIZATION: NBC Olympics\n",
      "PERSON: Jim Bell\n",
      "LOCATION: Sochi\n",
      "PERSON: Josiah Franklin\n",
      "PERSON: Benjamin Franklin\n",
      "LOCATION: Boston\n",
      "LOCATION: Philadelphia\n",
      "PERSON: Benjamin Franklin\n",
      "PERSON: Benjamin Franklin\n",
      "LOCATION: Boston\n"
     ]
    }
   ],
   "source": [
    "# entities is a list of tuples, each containing an xrange that indicates which\n",
    "# tokens are part of the entity, the entity tag, and an associate score.  The\n",
    "# entities are also listed in the order they appear in the input text file.\n",
    "# Here we just print the score, tag, and text for each entity to the screen.\n",
    "# The larger the score the more confident MITIE is in its prediction.\n",
    "for e in entities:\n",
    "    range = e[0]\n",
    "    tag = e[1]\n",
    "    entity_text = \" \".join(tokens[i] for i in range)\n",
    "    print tag + \": \" + entity_text"
   ]
  },
  {
   "cell_type": "code",
   "execution_count": 10,
   "metadata": {
    "collapsed": false
   },
   "outputs": [],
   "source": [
    "# Now let's run one of MITIE's binary relation detectors.  MITIE comes with a\n",
    "# bunch of different types of relation detector and includes tools allowing you\n",
    "# to train new detectors.  However, here we simply use one, the \"person born in\n",
    "# place\" relation detector.\n",
    "rel_detector = binary_relation_detector(mitie_path + \"MITIE-models/english/binary_relations/rel_classifier_people.person.place_of_birth.svm\")\n",
    "\n",
    "# First, let's make a list of neighboring entities.  Once we have this list we\n",
    "# will ask the relation detector if any of these entity pairs is an example of\n",
    "# the \"person born in place\" relation. \n",
    "neighboring_entities = [(entities[i][0], entities[i+1][0]) for i in xrange(len(entities)-1)]"
   ]
  },
  {
   "cell_type": "code",
   "execution_count": 11,
   "metadata": {
    "collapsed": false
   },
   "outputs": [
    {
     "name": "stdout",
     "output_type": "stream",
     "text": [
      "Benjamin Franklin BORN_IN Boston\n",
      "Benjamin Franklin BORN_IN Boston\n",
      "Benjamin Franklin BORN_IN Philadelphia\n"
     ]
    }
   ],
   "source": [
    "# Also swap the entities and add those in as well.  We do this because \"person\n",
    "# born in place\" mentions can appear in the text in as \"place is birthplace of\n",
    "# person\".  So we must consider both possible orderings of the arguments.\n",
    "neighboring_entities += [(r,l) for (l,r) in neighboring_entities]\n",
    "\n",
    "# Now that we have our list, let's check each entity pair and see which one the\n",
    "# detector selects.\n",
    "for person, place in neighboring_entities:\n",
    "    # Detection has two steps in MITIE. First, you convert a pair of entities\n",
    "    # into a special representation.\n",
    "    rel = ner.extract_binary_relation(tokens, person, place)\n",
    "    # Then you ask the detector to classify that pair of entities.  If the\n",
    "    # score value is > 0 then it is saying that it has found a relation.  The\n",
    "    # larger the score the more confident it is.  Finally, the reason we do\n",
    "    # detection in two parts is so you can reuse the intermediate rel in many\n",
    "    # calls to different relation detectors without needing to redo the\n",
    "    # processing done in extract_binary_relation().\n",
    "    score = rel_detector(rel)\n",
    "    # Print out any matching relations.\n",
    "    if (score > 0):\n",
    "        person_text     = \" \".join(tokens[i] for i in person)\n",
    "        birthplace_text = \" \".join(tokens[i] for i in place)\n",
    "        print person_text, \"BORN_IN\", birthplace_text"
   ]
  },
  {
   "cell_type": "code",
   "execution_count": 12,
   "metadata": {
    "collapsed": false
   },
   "outputs": [
    {
     "name": "stdout",
     "output_type": "stream",
     "text": [
      "\n",
      "Top most common relations:\n",
      "2 relations claiming Benjamin Franklin was born in Boston\n",
      "1 relations claiming Benjamin Franklin was born in Philadelphia\n"
     ]
    }
   ],
   "source": [
    "# The code above shows the basic details of MITIE's relation detection API.\n",
    "# However, it is important to note that real world data is noisy any confusing.\n",
    "# Not all detected relations will be correct.  Therefore, it's important to\n",
    "# aggregate many relation detections together to get the best signal out of\n",
    "# your data.  A good way to do this is to pick an entity you are in interested\n",
    "# in (e.g. Benjamin Franklin) and then find all the relations that mention him\n",
    "# and order them by most frequent to least frequent.  We show how to do this in\n",
    "# the code below.\n",
    "query = \"Benjamin Franklin\"\n",
    "hits = defaultdict(int)\n",
    "\n",
    "for person, place in neighboring_entities:\n",
    "    rel = ner.extract_binary_relation(tokens, person, place)\n",
    "    score = rel_detector(rel)\n",
    "    if (score > 0):\n",
    "        person_text     = \" \".join(tokens[i] for i in person)\n",
    "        birthplace_text = \" \".join(tokens[i] for i in place)\n",
    "        if (person_text == query):\n",
    "            hits[birthplace_text] += 1\n",
    "\n",
    "print \"\\nTop most common relations:\"\n",
    "for place, count in sorted(hits.iteritems(), key=lambda x:x[1], reverse=True):\n",
    "    print count, \"relations claiming\", query, \"was born in\", place"
   ]
  },
  {
   "cell_type": "code",
   "execution_count": null,
   "metadata": {
    "collapsed": true
   },
   "outputs": [],
   "source": []
  }
 ],
 "metadata": {
  "kernelspec": {
   "display_name": "Python 2",
   "language": "python",
   "name": "python2"
  },
  "language_info": {
   "codemirror_mode": {
    "name": "ipython",
    "version": 2
   },
   "file_extension": ".py",
   "mimetype": "text/x-python",
   "name": "python",
   "nbconvert_exporter": "python",
   "pygments_lexer": "ipython2",
   "version": "2.7.12"
  }
 },
 "nbformat": 4,
 "nbformat_minor": 1
}
