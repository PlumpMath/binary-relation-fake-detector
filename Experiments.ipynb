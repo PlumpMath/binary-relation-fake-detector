{
 "cells": [
  {
   "cell_type": "code",
   "execution_count": 1,
   "metadata": {
    "collapsed": true
   },
   "outputs": [],
   "source": [
    "import sys\n",
    "import os\n",
    "\n",
    "mitie_path = os.environ['MITIE_HOME']\n",
    "sys.path.append(mitie_path)\n",
    "\n",
    "from mitie import *"
   ]
  },
  {
   "cell_type": "code",
   "execution_count": 8,
   "metadata": {
    "collapsed": false
   },
   "outputs": [
    {
     "name": "stdout",
     "output_type": "stream",
     "text": [
      "('be', 60L)\n",
      "('familiar', 63L)\n",
      "('with', 72L)\n",
      "('the', 77L)\n",
      "('mid-brown', 81L)\n",
      "('volumes', 91L)\n",
      "('of', 99L)\n",
      "('the', 102L)\n",
      "('EETS', 106L)\n",
      "(',', 110L)\n",
      "('with', 111L)\n",
      "('the', 117L)\n"
     ]
    }
   ],
   "source": [
    "test_text = \"Anyone who reads Old and Middle English literary texts will be familiar with the mid-brown volumes of the EETS, with the symbol of Alfred's jewel embossed on the front cover. Most of the works attributed to King Alfred or to Aelfric, along with some of those by bishop Wulfstan and much anonymous prose and verse from the pre-Conquest period, are to be found within the Society's three series; all of the surviving medieval drama, most of the Middle English romances, much religious and secular prose and verse including the English works of John Gower, Thomas Hoccleve and most of Caxton's prints all find their place in the publications. Without EETS editions, study of medieval English texts would hardly be possible.\"\n",
    "tokens = tokenize_with_offsets(test_text)\n",
    "for i in range(10,22):\n",
    "    print tokens[i]\n",
    "# well, seems index of word next to comma is wrong "
   ]
  },
  {
   "cell_type": "code",
   "execution_count": 9,
   "metadata": {
    "collapsed": false
   },
   "outputs": [
    {
     "name": "stdout",
     "output_type": "stream",
     "text": [
      "('Anyone', 0L)\n",
      "('who', 7L)\n",
      "('reads', 11L)\n",
      "('Old', 17L)\n",
      "('and', 21L)\n",
      "('Middle', 25L)\n",
      "('English', 32L)\n",
      "('literary', 40L)\n",
      "('texts', 49L)\n",
      "('will', 55L)\n"
     ]
    }
   ],
   "source": [
    "for i in range(10):\n",
    "    print tokens[i]"
   ]
  },
  {
   "cell_type": "code",
   "execution_count": 4,
   "metadata": {
    "collapsed": false
   },
   "outputs": [
    {
     "data": {
      "text/plain": [
       "\"Anyone who reads Old and Middle English literary texts will be familiar with the mid-brown volumes of the EETS,with  the symbol of Alfred's jewel embossed on the front cover.Most  of the works attributed to King Alfred or to Aelfric,along  with some of those by bishop Wulfstan and much anonymous prose and verse from the pre-Conquest period,are  to be found within the Society's three series; all of the surviving medieval drama,most  of the Middle English romances,much  religious and secular prose and verse including the English works of\""
      ]
     },
     "execution_count": 4,
     "metadata": {},
     "output_type": "execute_result"
    }
   ],
   "source": [
    "from mitie_lib import *\n",
    "extract_text_by_xrange_with_offset(tokens, range(100))"
   ]
  }
 ],
 "metadata": {
  "kernelspec": {
   "display_name": "Python 2",
   "language": "python",
   "name": "python2"
  },
  "language_info": {
   "codemirror_mode": {
    "name": "ipython",
    "version": 2
   },
   "file_extension": ".py",
   "mimetype": "text/x-python",
   "name": "python",
   "nbconvert_exporter": "python",
   "pygments_lexer": "ipython2",
   "version": "2.7.12"
  }
 },
 "nbformat": 4,
 "nbformat_minor": 0
}
