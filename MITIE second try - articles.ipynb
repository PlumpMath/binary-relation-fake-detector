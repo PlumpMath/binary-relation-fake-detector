{
 "cells": [
  {
   "cell_type": "code",
   "execution_count": 1,
   "metadata": {
    "collapsed": false
   },
   "outputs": [],
   "source": [
    "from article_lib import *\n",
    "from mitie_lib import *"
   ]
  },
  {
   "cell_type": "code",
   "execution_count": 2,
   "metadata": {
    "collapsed": false
   },
   "outputs": [],
   "source": [
    "import glob\n",
    "\n",
    "articles = glob.glob(\"..\\\\Articles\\\\1\\\\*.xml\")"
   ]
  },
  {
   "cell_type": "code",
   "execution_count": 3,
   "metadata": {
    "collapsed": false
   },
   "outputs": [
    {
     "data": {
      "text/html": [
       "<div>\n",
       "<table border=\"1\" class=\"dataframe\">\n",
       "  <thead>\n",
       "    <tr style=\"text-align: right;\">\n",
       "      <th></th>\n",
       "      <th>SourceId</th>\n",
       "      <th>BinaryRelationId</th>\n",
       "      <th>IsRevelation</th>\n",
       "      <th>Title</th>\n",
       "      <th>Url</th>\n",
       "      <th>Body</th>\n",
       "    </tr>\n",
       "  </thead>\n",
       "  <tbody>\n",
       "    <tr>\n",
       "      <th>0</th>\n",
       "      <td>1.0</td>\n",
       "      <td>1.0</td>\n",
       "      <td>0.0</td>\n",
       "      <td>I was actually born in Kenya, says Obama</td>\n",
       "      <td>http://www.thedailymash.co.uk/news/internation...</td>\n",
       "      <td>BARACK Obama has admitted he was born in Kenya...</td>\n",
       "    </tr>\n",
       "    <tr>\n",
       "      <th>1</th>\n",
       "      <td>9.0</td>\n",
       "      <td>1.0</td>\n",
       "      <td>1.0</td>\n",
       "      <td>This Is How the Whole Birther Thing Actually S...</td>\n",
       "      <td>http://time.com/4496792/birther-rumor-started/</td>\n",
       "      <td>On Friday, an old conspiracy theory about Pres...</td>\n",
       "    </tr>\n",
       "    <tr>\n",
       "      <th>2</th>\n",
       "      <td>10.0</td>\n",
       "      <td>1.0</td>\n",
       "      <td>0.0</td>\n",
       "      <td>Surprise! I was born in Kenya says Barack Obama</td>\n",
       "      <td>http://rochdaleherald.co.uk/2017/01/21/surpris...</td>\n",
       "      <td>Barack Obama surprised the world today after a...</td>\n",
       "    </tr>\n",
       "    <tr>\n",
       "      <th>3</th>\n",
       "      <td>11.0</td>\n",
       "      <td>1.0</td>\n",
       "      <td>0.0</td>\n",
       "      <td>BARACK OBAMA'S KENYAN BIRTH CERTIFICATE</td>\n",
       "      <td>http://fourwinds10.com/siterun_data/government...</td>\n",
       "      <td>\\n\\this is part of what Obama has spent almost...</td>\n",
       "    </tr>\n",
       "    <tr>\n",
       "      <th>4</th>\n",
       "      <td>12.0</td>\n",
       "      <td>1.0</td>\n",
       "      <td>0.0</td>\n",
       "      <td>Barack Obama birthplace controversy</td>\n",
       "      <td>http://www.conservapedia.com/Barack_Obama_birt...</td>\n",
       "      <td>\\n\\tThe Barack Obama birthplace controversy is...</td>\n",
       "    </tr>\n",
       "  </tbody>\n",
       "</table>\n",
       "</div>"
      ],
      "text/plain": [
       "   SourceId  BinaryRelationId  IsRevelation  \\\n",
       "0       1.0               1.0           0.0   \n",
       "1       9.0               1.0           1.0   \n",
       "2      10.0               1.0           0.0   \n",
       "3      11.0               1.0           0.0   \n",
       "4      12.0               1.0           0.0   \n",
       "\n",
       "                                               Title  \\\n",
       "0           I was actually born in Kenya, says Obama   \n",
       "1  This Is How the Whole Birther Thing Actually S...   \n",
       "2    Surprise! I was born in Kenya says Barack Obama   \n",
       "3            BARACK OBAMA'S KENYAN BIRTH CERTIFICATE   \n",
       "4                Barack Obama birthplace controversy   \n",
       "\n",
       "                                                 Url  \\\n",
       "0  http://www.thedailymash.co.uk/news/internation...   \n",
       "1     http://time.com/4496792/birther-rumor-started/   \n",
       "2  http://rochdaleherald.co.uk/2017/01/21/surpris...   \n",
       "3  http://fourwinds10.com/siterun_data/government...   \n",
       "4  http://www.conservapedia.com/Barack_Obama_birt...   \n",
       "\n",
       "                                                Body  \n",
       "0  BARACK Obama has admitted he was born in Kenya...  \n",
       "1  On Friday, an old conspiracy theory about Pres...  \n",
       "2  Barack Obama surprised the world today after a...  \n",
       "3  \\n\\this is part of what Obama has spent almost...  \n",
       "4  \\n\\tThe Barack Obama birthplace controversy is...  "
      ]
     },
     "execution_count": 3,
     "metadata": {},
     "output_type": "execute_result"
    }
   ],
   "source": [
    "df = read_list_of_articles_as_dataset(articles)\n",
    "df.head()"
   ]
  },
  {
   "cell_type": "code",
   "execution_count": 4,
   "metadata": {
    "collapsed": false
   },
   "outputs": [
    {
     "data": {
      "text/html": [
       "<div>\n",
       "<table border=\"1\" class=\"dataframe\">\n",
       "  <thead>\n",
       "    <tr style=\"text-align: right;\">\n",
       "      <th></th>\n",
       "      <th>SourceId</th>\n",
       "      <th>IsRevelation</th>\n",
       "      <th>Title</th>\n",
       "      <th>Url</th>\n",
       "      <th>Body</th>\n",
       "      <th>Subject</th>\n",
       "      <th>Predicate</th>\n",
       "      <th>Object</th>\n",
       "      <th>Link</th>\n",
       "    </tr>\n",
       "  </thead>\n",
       "  <tbody>\n",
       "    <tr>\n",
       "      <th>0</th>\n",
       "      <td>1.0</td>\n",
       "      <td>0.0</td>\n",
       "      <td>I was actually born in Kenya, says Obama</td>\n",
       "      <td>http://www.thedailymash.co.uk/news/internation...</td>\n",
       "      <td>BARACK Obama has admitted he was born in Kenya...</td>\n",
       "      <td>Barack Obama</td>\n",
       "      <td>BORN IN</td>\n",
       "      <td>Kenya</td>\n",
       "      <td>http://www.factcheck.org/2008/08/born-in-the-usa/</td>\n",
       "    </tr>\n",
       "    <tr>\n",
       "      <th>1</th>\n",
       "      <td>9.0</td>\n",
       "      <td>1.0</td>\n",
       "      <td>This Is How the Whole Birther Thing Actually S...</td>\n",
       "      <td>http://time.com/4496792/birther-rumor-started/</td>\n",
       "      <td>On Friday, an old conspiracy theory about Pres...</td>\n",
       "      <td>Barack Obama</td>\n",
       "      <td>BORN IN</td>\n",
       "      <td>Kenya</td>\n",
       "      <td>http://www.factcheck.org/2008/08/born-in-the-usa/</td>\n",
       "    </tr>\n",
       "    <tr>\n",
       "      <th>2</th>\n",
       "      <td>10.0</td>\n",
       "      <td>0.0</td>\n",
       "      <td>Surprise! I was born in Kenya says Barack Obama</td>\n",
       "      <td>http://rochdaleherald.co.uk/2017/01/21/surpris...</td>\n",
       "      <td>Barack Obama surprised the world today after a...</td>\n",
       "      <td>Barack Obama</td>\n",
       "      <td>BORN IN</td>\n",
       "      <td>Kenya</td>\n",
       "      <td>http://www.factcheck.org/2008/08/born-in-the-usa/</td>\n",
       "    </tr>\n",
       "    <tr>\n",
       "      <th>3</th>\n",
       "      <td>11.0</td>\n",
       "      <td>0.0</td>\n",
       "      <td>BARACK OBAMA'S KENYAN BIRTH CERTIFICATE</td>\n",
       "      <td>http://fourwinds10.com/siterun_data/government...</td>\n",
       "      <td>\\n\\this is part of what Obama has spent almost...</td>\n",
       "      <td>Barack Obama</td>\n",
       "      <td>BORN IN</td>\n",
       "      <td>Kenya</td>\n",
       "      <td>http://www.factcheck.org/2008/08/born-in-the-usa/</td>\n",
       "    </tr>\n",
       "    <tr>\n",
       "      <th>4</th>\n",
       "      <td>12.0</td>\n",
       "      <td>0.0</td>\n",
       "      <td>Barack Obama birthplace controversy</td>\n",
       "      <td>http://www.conservapedia.com/Barack_Obama_birt...</td>\n",
       "      <td>\\n\\tThe Barack Obama birthplace controversy is...</td>\n",
       "      <td>Barack Obama</td>\n",
       "      <td>BORN IN</td>\n",
       "      <td>Kenya</td>\n",
       "      <td>http://www.factcheck.org/2008/08/born-in-the-usa/</td>\n",
       "    </tr>\n",
       "  </tbody>\n",
       "</table>\n",
       "</div>"
      ],
      "text/plain": [
       "   SourceId  IsRevelation                                              Title  \\\n",
       "0       1.0           0.0           I was actually born in Kenya, says Obama   \n",
       "1       9.0           1.0  This Is How the Whole Birther Thing Actually S...   \n",
       "2      10.0           0.0    Surprise! I was born in Kenya says Barack Obama   \n",
       "3      11.0           0.0            BARACK OBAMA'S KENYAN BIRTH CERTIFICATE   \n",
       "4      12.0           0.0                Barack Obama birthplace controversy   \n",
       "\n",
       "                                                 Url  \\\n",
       "0  http://www.thedailymash.co.uk/news/internation...   \n",
       "1     http://time.com/4496792/birther-rumor-started/   \n",
       "2  http://rochdaleherald.co.uk/2017/01/21/surpris...   \n",
       "3  http://fourwinds10.com/siterun_data/government...   \n",
       "4  http://www.conservapedia.com/Barack_Obama_birt...   \n",
       "\n",
       "                                                Body       Subject Predicate  \\\n",
       "0  BARACK Obama has admitted he was born in Kenya...  Barack Obama   BORN IN   \n",
       "1  On Friday, an old conspiracy theory about Pres...  Barack Obama   BORN IN   \n",
       "2  Barack Obama surprised the world today after a...  Barack Obama   BORN IN   \n",
       "3  \\n\\this is part of what Obama has spent almost...  Barack Obama   BORN IN   \n",
       "4  \\n\\tThe Barack Obama birthplace controversy is...  Barack Obama   BORN IN   \n",
       "\n",
       "  Object                                               Link  \n",
       "0  Kenya  http://www.factcheck.org/2008/08/born-in-the-usa/  \n",
       "1  Kenya  http://www.factcheck.org/2008/08/born-in-the-usa/  \n",
       "2  Kenya  http://www.factcheck.org/2008/08/born-in-the-usa/  \n",
       "3  Kenya  http://www.factcheck.org/2008/08/born-in-the-usa/  \n",
       "4  Kenya  http://www.factcheck.org/2008/08/born-in-the-usa/  "
      ]
     },
     "execution_count": 4,
     "metadata": {},
     "output_type": "execute_result"
    }
   ],
   "source": [
    "df_joined = join_binary_relations(df)\n",
    "df_joined.head()"
   ]
  },
  {
   "cell_type": "code",
   "execution_count": 6,
   "metadata": {
    "collapsed": false
   },
   "outputs": [],
   "source": [
    "search_in_titles = df_joined.apply(lambda row: find_binary_relation_in_text(row['Title'].lower(), row['Subject'], row['Object'], row['Predicate']), axis=1)"
   ]
  },
  {
   "cell_type": "code",
   "execution_count": 7,
   "metadata": {
    "collapsed": false
   },
   "outputs": [
    {
     "name": "stdout",
     "output_type": "stream",
     "text": [
      "Score: -1.21592159719, text: born in kenya says barack obama\n",
      "Score: -2.20124585103, text: certificate for barack obama in kenya\n",
      "Score: -1.83399410749, text: barack obama bio states he was �born in kenya and raised\n"
     ]
    }
   ],
   "source": [
    "for st_r in search_in_titles:\n",
    "    for st in st_r:\n",
    "        print \"Score: \" + str(st[2]) + \", text: \" + st[3]"
   ]
  },
  {
   "cell_type": "code",
   "execution_count": 8,
   "metadata": {
    "collapsed": false
   },
   "outputs": [
    {
     "data": {
      "text/plain": [
       "[((xrange(2), 'ORGANIZATION'),\n",
       "  (xrange(5, 6), 'UNKNOWN'),\n",
       "  -2.4002652981024553,\n",
       "  'BARACK OBAMA - BORN IN KENYA - STUNNING')]"
      ]
     },
     "execution_count": 8,
     "metadata": {},
     "output_type": "execute_result"
    }
   ],
   "source": [
    "find_binary_relation_in_text(\"BARACK OBAMA - BORN IN KENYA - STUNNING PROOF!\", \"Barack Obama\", \"Kenya\", \"BORN IN\")"
   ]
  },
  {
   "cell_type": "code",
   "execution_count": 9,
   "metadata": {
    "collapsed": false
   },
   "outputs": [
    {
     "data": {
      "text/plain": [
       "[((xrange(2), 'PERSON'),\n",
       "  (xrange(5, 6), 'LOCATION'),\n",
       "  0.3546915234290603,\n",
       "  'barack obama - born in kenya - stunning')]"
      ]
     },
     "execution_count": 9,
     "metadata": {},
     "output_type": "execute_result"
    }
   ],
   "source": [
    "find_binary_relation_in_text(\"BARACK OBAMA - BORN IN KENYA - STUNNING PROOF!\".lower(), \"Barack Obama\", \"Kenya\", \"BORN IN\")"
   ]
  },
  {
   "cell_type": "code",
   "execution_count": 10,
   "metadata": {
    "collapsed": false
   },
   "outputs": [],
   "source": [
    "search_in_body = df_joined.apply(lambda row: find_binary_relation_in_text(row['Body'].lower(), row['Subject'], row['Object'], row['Predicate']), axis=1)"
   ]
  },
  {
   "cell_type": "markdown",
   "metadata": {
    "collapsed": true
   },
   "source": [
    "Wow! Щось знайшлося!"
   ]
  },
  {
   "cell_type": "code",
   "execution_count": 11,
   "metadata": {
    "collapsed": false
   },
   "outputs": [
    {
     "name": "stdout",
     "output_type": "stream",
     "text": [
      "Score: 2.2296653627, text: 'barack obama surprised the world today after announcing that he wasn�t actually born in america after all but was actually born in kenya , and'\n",
      "Score: 2.24770908205, text: 'the barack obama birthplace controversy is about whether president barack obama is a \" natural born citizen \" of the united states . obama and his supporters have claimed he was born in a hospital in hawaii . barack obama claims to have been born at the kapi 'olani medical center for women children in honolulu , hawaii , [ 1 ] to barack obama , sr . , a luo from nyang�oma kogelo , nyanza province , kenya , and'\n",
      "Score: 2.3955919995, text: 'whether president barack obama is a \" natural born citizen \" of the united states . obama and his supporters have claimed he was born in a hospital in hawaii . barack obama claims to have been born at the kapi 'olani medical center for women children in honolulu , hawaii , [ 1 ] to barack obama , sr . , a luo from nyang�oma kogelo , nyanza province , kenya , and'\n",
      "Score: 0.00890026156431, text: 'video of barack obama admitting to being born in kenya has gone viral online - the video was posted on twitter by a handle that is a clear supporter of republican presidential candidate , donald trump - this video is an indirect shot at his opponent , hillary clinton , who only weeks ago received the endorsement of obama as she vied to be the first female president of the states a video has surfaced online with an alleged confession by united states of america president barrack obama saying that he was indeed born in kenya . read'\n",
      "Score: 0.737260277532, text: '? is barack obama , jr . a/k/a barry soetoro still an indonesian citizen ? what is barack obama , jr . a/k/a barry soetoro 's legal name ? 02/18/08 : star bulletin news article obama backers stress importance of caucuses , page 2, \" he was born in kapiolani medical center for women children \" 11/04 : the rainbow edition , volume 2, issue 3, education laboratory school , page 2, \" barack obama was born on august 4, 1961 at the queen 's medical center in honolulu , hawaii \" 10/2008 : interview with barack hussein obama , jr . 's kenyan grandmother , sarah obama during a taped interview at her home in kenya was adamant'\n",
      "Score: 3.07480157107, text: '? is barack obama , jr . a/k/a barry soetoro still an indonesian citizen ? what is barack obama , jr . a/k/a barry soetoro 's legal name ? 02/18/08 : star bulletin news article obama backers stress importance of caucuses , page 2, \" he was born in kapiolani medical center for women children \" 11/04 : the rainbow edition , volume 2, issue 3, education laboratory school , page 2, \" barack obama was born on august 4, 1961 at the queen 's medical center in honolulu , hawaii \" 10/2008 : interview with barack hussein obama , jr . 's kenyan grandmother , sarah obama during a taped interview at her home in kenya was adamant \" barack , jr . was born in mombosa , kenya and i'\n",
      "Score: 4.4049706418, text: '? is barack obama , jr . a/k/a barry soetoro still an indonesian citizen ? what is barack obama , jr . a/k/a barry soetoro 's legal name ? 02/18/08 : star bulletin news article obama backers stress importance of caucuses , page 2, \" he was born in kapiolani medical center for women children \" 11/04 : the rainbow edition , volume 2, issue 3, education laboratory school , page 2, \" barack obama was born on august 4, 1961 at the queen 's medical center in honolulu , hawaii \" 10/2008 : interview with barack hussein obama , jr . 's kenyan grandmother , sarah obama during a taped interview at her home in kenya was adamant \" barack , jr . was born in mombosa , kenya and i was present during his birth . \" 10/30/08 : affidavit of reverend kweli shuhubia , \" barack hussein obama , jr . , the united states presidential candidate , was born in mombosa kenya \" \"'\n",
      "Score: 4.39293751086, text: '? is barack obama , jr . a/k/a barry soetoro still an indonesian citizen ? what is barack obama , jr . a/k/a barry soetoro 's legal name ? 02/18/08 : star bulletin news article obama backers stress importance of caucuses , page 2, \" he was born in kapiolani medical center for women children \" 11/04 : the rainbow edition , volume 2, issue 3, education laboratory school , page 2, \" barack obama was born on august 4, 1961 at the queen 's medical center in honolulu , hawaii \" 10/2008 : interview with barack hussein obama , jr . 's kenyan grandmother , sarah obama during a taped interview at her home in kenya was adamant \" barack , jr . was born in mombosa , kenya and i was present during his birth . \" 10/30/08 : affidavit of reverend kweli shuhubia , \" barack hussein obama , jr . , the united states presidential candidate , was born in mombosa kenya \" \" kenyan officials with the provincial civil registrar stated there were records of ann dunham giving birth to barack hussein obama , iii in mombosa , kenya on august'\n",
      "Score: 2.76788592087, text: '? is barack obama , jr . a/k/a barry soetoro still an indonesian citizen ? what is barack obama , jr . a/k/a barry soetoro 's legal name ? 02/18/08 : star bulletin news article obama backers stress importance of caucuses , page 2, \" he was born in kapiolani medical center for women children \" 11/04 : the rainbow edition , volume 2, issue 3, education laboratory school , page 2, \" barack obama was born on august 4, 1961 at the queen 's medical center in honolulu , hawaii \" 10/2008 : interview with barack hussein obama , jr . 's kenyan grandmother , sarah obama during a taped interview at her home in kenya was adamant \" barack , jr . was born in mombosa , kenya and i was present during his birth . \" 10/30/08 : affidavit of reverend kweli shuhubia , \" barack hussein obama , jr . , the united states presidential candidate , was born in mombosa kenya \" \" kenyan officials with the provincial civil registrar stated there were records of ann dunham giving birth to barack hussein obama , iii in mombosa , kenya on august 4, 1961 and confirmed the birthing records of barack h. obama , jr . and his mother were present , however , the file on barack h. obama , jr . was classified and profiled . the official explained barack hussein obama , jr . birth in kenya is top'\n",
      "Score: 4.32216784431, text: '? is barack obama , jr . a/k/a barry soetoro still an indonesian citizen ? what is barack obama , jr . a/k/a barry soetoro 's legal name ? 02/18/08 : star bulletin news article obama backers stress importance of caucuses , page 2, \" he was born in kapiolani medical center for women children \" 11/04 : the rainbow edition , volume 2, issue 3, education laboratory school , page 2, \" barack obama was born on august 4, 1961 at the queen 's medical center in honolulu , hawaii \" 10/2008 : interview with barack hussein obama , jr . 's kenyan grandmother , sarah obama during a taped interview at her home in kenya was adamant \" barack , jr . was born in mombosa , kenya and i was present during his birth . \" 10/30/08 : affidavit of reverend kweli shuhubia , \" barack hussein obama , jr . , the united states presidential candidate , was born in mombosa kenya \" \" kenyan officials with the provincial civil registrar stated there were records of ann dunham giving birth to barack hussein obama , iii in mombosa , kenya on august 4, 1961 and confirmed the birthing records of barack h. obama , jr . and his mother were present , however , the file on barack h. obama , jr . was classified and profiled . the official explained barack hussein obama , jr . birth in kenya is top secret . \" 10/27/08 : affidavit of bishop ron mcrae , \" us senator barack hussein obama is a muslim and not a christian , and that he was born in mombasa , kenya and not'\n",
      "Score: 0.890148278407, text: 'what is barack obama , jr . a/k/a barry soetoro 's legal name ? 02/18/08 : star bulletin news article obama backers stress importance of caucuses , page 2, \" he was born in kapiolani medical center for women children \" 11/04 : the rainbow edition , volume 2, issue 3, education laboratory school , page 2, \" barack obama was born on august 4, 1961 at the queen 's medical center in honolulu , hawaii \" 10/2008 : interview with barack hussein obama , jr . 's kenyan grandmother , sarah obama during a taped interview at her home in kenya was adamant'\n",
      "Score: 3.24262817773, text: 'what is barack obama , jr . a/k/a barry soetoro 's legal name ? 02/18/08 : star bulletin news article obama backers stress importance of caucuses , page 2, \" he was born in kapiolani medical center for women children \" 11/04 : the rainbow edition , volume 2, issue 3, education laboratory school , page 2, \" barack obama was born on august 4, 1961 at the queen 's medical center in honolulu , hawaii \" 10/2008 : interview with barack hussein obama , jr . 's kenyan grandmother , sarah obama during a taped interview at her home in kenya was adamant \" barack , jr . was born in mombosa , kenya and i'\n",
      "Score: 4.4721766168, text: 'what is barack obama , jr . a/k/a barry soetoro 's legal name ? 02/18/08 : star bulletin news article obama backers stress importance of caucuses , page 2, \" he was born in kapiolani medical center for women children \" 11/04 : the rainbow edition , volume 2, issue 3, education laboratory school , page 2, \" barack obama was born on august 4, 1961 at the queen 's medical center in honolulu , hawaii \" 10/2008 : interview with barack hussein obama , jr . 's kenyan grandmother , sarah obama during a taped interview at her home in kenya was adamant \" barack , jr . was born in mombosa , kenya and i was present during his birth . \" 10/30/08 : affidavit of reverend kweli shuhubia , \" barack hussein obama , jr . , the united states presidential candidate , was born in mombosa kenya \" \"'\n",
      "Score: 4.55097416644, text: 'what is barack obama , jr . a/k/a barry soetoro 's legal name ? 02/18/08 : star bulletin news article obama backers stress importance of caucuses , page 2, \" he was born in kapiolani medical center for women children \" 11/04 : the rainbow edition , volume 2, issue 3, education laboratory school , page 2, \" barack obama was born on august 4, 1961 at the queen 's medical center in honolulu , hawaii \" 10/2008 : interview with barack hussein obama , jr . 's kenyan grandmother , sarah obama during a taped interview at her home in kenya was adamant \" barack , jr . was born in mombosa , kenya and i was present during his birth . \" 10/30/08 : affidavit of reverend kweli shuhubia , \" barack hussein obama , jr . , the united states presidential candidate , was born in mombosa kenya \" \" kenyan officials with the provincial civil registrar stated there were records of ann dunham giving birth to barack hussein obama , iii in mombosa , kenya on august'\n",
      "Score: 2.98866654807, text: 'what is barack obama , jr . a/k/a barry soetoro 's legal name ? 02/18/08 : star bulletin news article obama backers stress importance of caucuses , page 2, \" he was born in kapiolani medical center for women children \" 11/04 : the rainbow edition , volume 2, issue 3, education laboratory school , page 2, \" barack obama was born on august 4, 1961 at the queen 's medical center in honolulu , hawaii \" 10/2008 : interview with barack hussein obama , jr . 's kenyan grandmother , sarah obama during a taped interview at her home in kenya was adamant \" barack , jr . was born in mombosa , kenya and i was present during his birth . \" 10/30/08 : affidavit of reverend kweli shuhubia , \" barack hussein obama , jr . , the united states presidential candidate , was born in mombosa kenya \" \" kenyan officials with the provincial civil registrar stated there were records of ann dunham giving birth to barack hussein obama , iii in mombosa , kenya on august 4, 1961 and confirmed the birthing records of barack h. obama , jr . and his mother were present , however , the file on barack h. obama , jr . was classified and profiled . the official explained barack hussein obama , jr . birth in kenya is top'\n",
      "Score: 4.50154208766, text: 'what is barack obama , jr . a/k/a barry soetoro 's legal name ? 02/18/08 : star bulletin news article obama backers stress importance of caucuses , page 2, \" he was born in kapiolani medical center for women children \" 11/04 : the rainbow edition , volume 2, issue 3, education laboratory school , page 2, \" barack obama was born on august 4, 1961 at the queen 's medical center in honolulu , hawaii \" 10/2008 : interview with barack hussein obama , jr . 's kenyan grandmother , sarah obama during a taped interview at her home in kenya was adamant \" barack , jr . was born in mombosa , kenya and i was present during his birth . \" 10/30/08 : affidavit of reverend kweli shuhubia , \" barack hussein obama , jr . , the united states presidential candidate , was born in mombosa kenya \" \" kenyan officials with the provincial civil registrar stated there were records of ann dunham giving birth to barack hussein obama , iii in mombosa , kenya on august 4, 1961 and confirmed the birthing records of barack h. obama , jr . and his mother were present , however , the file on barack h. obama , jr . was classified and profiled . the official explained barack hussein obama , jr . birth in kenya is top secret . \" 10/27/08 : affidavit of bishop ron mcrae , \" us senator barack hussein obama is a muslim and not a christian , and that he was born in mombasa , kenya and not'\n",
      "Score: 2.05798175451, text: '2, \" barack obama was born on august 4, 1961 at the queen 's medical center in honolulu , hawaii \" 10/2008 : interview with barack hussein obama , jr . 's kenyan grandmother , sarah obama during a taped interview at her home in kenya was adamant \" barack , jr . was born in mombosa , kenya and i'\n",
      "Score: 3.338250286, text: '2, \" barack obama was born on august 4, 1961 at the queen 's medical center in honolulu , hawaii \" 10/2008 : interview with barack hussein obama , jr . 's kenyan grandmother , sarah obama during a taped interview at her home in kenya was adamant \" barack , jr . was born in mombosa , kenya and i was present during his birth . \" 10/30/08 : affidavit of reverend kweli shuhubia , \" barack hussein obama , jr . , the united states presidential candidate , was born in mombosa kenya \" \"'\n",
      "Score: 3.37358665666, text: '2, \" barack obama was born on august 4, 1961 at the queen 's medical center in honolulu , hawaii \" 10/2008 : interview with barack hussein obama , jr . 's kenyan grandmother , sarah obama during a taped interview at her home in kenya was adamant \" barack , jr . was born in mombosa , kenya and i was present during his birth . \" 10/30/08 : affidavit of reverend kweli shuhubia , \" barack hussein obama , jr . , the united states presidential candidate , was born in mombosa kenya \" \" kenyan officials with the provincial civil registrar stated there were records of ann dunham giving birth to barack hussein obama , iii in mombosa , kenya on august'\n",
      "Score: 1.73605084311, text: '2, \" barack obama was born on august 4, 1961 at the queen 's medical center in honolulu , hawaii \" 10/2008 : interview with barack hussein obama , jr . 's kenyan grandmother , sarah obama during a taped interview at her home in kenya was adamant \" barack , jr . was born in mombosa , kenya and i was present during his birth . \" 10/30/08 : affidavit of reverend kweli shuhubia , \" barack hussein obama , jr . , the united states presidential candidate , was born in mombosa kenya \" \" kenyan officials with the provincial civil registrar stated there were records of ann dunham giving birth to barack hussein obama , iii in mombosa , kenya on august 4, 1961 and confirmed the birthing records of barack h. obama , jr . and his mother were present , however , the file on barack h. obama , jr . was classified and profiled . the official explained barack hussein obama , jr . birth in kenya is top'\n",
      "Score: 3.29557881364, text: '2, \" barack obama was born on august 4, 1961 at the queen 's medical center in honolulu , hawaii \" 10/2008 : interview with barack hussein obama , jr . 's kenyan grandmother , sarah obama during a taped interview at her home in kenya was adamant \" barack , jr . was born in mombosa , kenya and i was present during his birth . \" 10/30/08 : affidavit of reverend kweli shuhubia , \" barack hussein obama , jr . , the united states presidential candidate , was born in mombosa kenya \" \" kenyan officials with the provincial civil registrar stated there were records of ann dunham giving birth to barack hussein obama , iii in mombosa , kenya on august 4, 1961 and confirmed the birthing records of barack h. obama , jr . and his mother were present , however , the file on barack h. obama , jr . was classified and profiled . the official explained barack hussein obama , jr . birth in kenya is top secret . \" 10/27/08 : affidavit of bishop ron mcrae , \" us senator barack hussein obama is a muslim and not a christian , and that he was born in mombasa , kenya and not'\n",
      "Score: 1.61449159867, text: 'in where barack obama was born . i don�t care if he was born in kenya or indonesia'\n",
      "Score: 0.329314009135, text: 'proof that barack obama was born in kenya . we'\n",
      "Score: 4.88572752133, text: 'proof that barack obama was born in kenya . we have demanded in response that obama provide proof he was born in the united states . advertisement - story continues below related stories judge napolitano predicts trey gowdy will �trap� susan rice into incriminating herself betsy devos rolls back obama-era guidelines on student debt collection new irs documents confirm irs inappropriately targeted tea party groups under president obama now thanks to breitbart news we have proof that obama himself claimed he was born in kenya , at'\n",
      "Score: 4.46305911253, text: 'proof that barack obama was born in kenya . we have demanded in response that obama provide proof he was born in the united states . advertisement - story continues below related stories judge napolitano predicts trey gowdy will �trap� susan rice into incriminating herself betsy devos rolls back obama-era guidelines on student debt collection new irs documents confirm irs inappropriately targeted tea party groups under president obama now thanks to breitbart news we have proof that obama himself claimed he was born in kenya , at least to his literary agent . breitbart news has obtained a promotional booklet produced in 1991 by barack obama�s then-literary agency , acton dystel , which touts obama as �born in kenya and raised'\n",
      "Score: 0.136505190056, text: 'proof that barack obama was born in kenya . we have demanded in response that obama provide proof he was born in the united states . advertisement - story continues below related stories judge napolitano predicts trey gowdy will �trap� susan rice into incriminating herself betsy devos rolls back obama-era guidelines on student debt collection new irs documents confirm irs inappropriately targeted tea party groups under president obama now thanks to breitbart news we have proof that obama himself claimed he was born in kenya , at least to his literary agent . breitbart news has obtained a promotional booklet produced in 1991 by barack obama�s then-literary agency , acton dystel , which touts obama as �born in kenya and raised in indonesia and hawaii . � the booklet , which was distributed to �business colleagues� in the publishing industry , includes a brief biography of obama among the biographies of eighty-nine other authors represented by acton dystel . it also promotes obama�s anticipated first book , journeys in black and white�which obama abandoned , later publishing dreams from my father instead . here is a picture of the full page of text , which must have been approved by the young author . advertisement - story continues below this story is an important additional piece to the puzzle of trying to figure out who is �barack hussein obama . � the breitbart organization should be congratulated for this important exclusive . but i must admit that the senior management went out of their way to discredit the story they were publishing with this bizarre preface : note from senior management : andrew breitbart was never a �birther , � and breitbart news is a site that has never advocated the narrative of �birtherism . � in fact , andrew believed , as we do , that president barack obama was born in honolulu , hawaii , on august 4, 1961. yet andrew also believed that the complicit mainstream media had refused to examine president obama�s ideological past , or the carefully crafted persona he and his advisers had constructed for him . it is for that reason that we launched �the vetting , � an ongoing series in which we explore the ideological background of president obama ( and other presidential candidates ) �not to re-litigate 2008, but because ideas and actions have consequences . it is also in that spirit that we discovered , and now present , the booklet described below�one that includes a marketing pitch for a forthcoming book by a then-young , otherwise unknown former president of the harvard law review . it is evidence�not of the president�s foreign origin , but that barack obama�s public persona has perhaps been presented differently at different times . so we are supposed to believe that barack obama went around telling people he was born in kenya years ago'\n",
      "Score: 0.266129496322, text: 'believe that barack obama went around telling people he was born in kenya years ago'\n",
      "Score: 1.11188375166, text: 'search for barack obama and his background and education . as president of the harvard law review , he published nothing . as he was a recent law school graduate , there would be little in the public library about his background . the new york times published a short article in 1990 announcing obama�s election to the harvard law review , but with no mention of his being born in kenya . in fact , the article in the times stated that he was born in hawaii . the logical conclusion is that what the literary editor wrote for the obama bio , particularly the part of him being born in kenya , had'\n",
      "Score: 0.484612754649, text: 'search for barack obama and his background and education . as president of the harvard law review , he published nothing . as he was a recent law school graduate , there would be little in the public library about his background . the new york times published a short article in 1990 announcing obama�s election to the harvard law review , but with no mention of his being born in kenya . in fact , the article in the times stated that he was born in hawaii . the logical conclusion is that what the literary editor wrote for the obama bio , particularly the part of him being born in kenya , had to come from obama himself . why would an editor cherry pick some information from the new york times article and manufacture something else about his place of birth ? this is the times bio . �his late father , barack obama , was a finance minister in kenya and his mother , ann dunham , is an american anthropologist now doing fieldwork in indonesia . mr . obama was born in hawaii . � the literary bio said essentially the same thing , except changing the birthplace to kenya . this'\n",
      "Score: 0.31020074285, text: 'certificate , barack obama was born on 4 august 1961 in coast province general hospital , mobasa , kenya . but'\n",
      "Score: 0.875944131769, text: 'alone � barack obama . � how is this possible ? �obama went to extreme lengths to conceal his past . and , indeed , if he was born in the u.s. and was eligible to serve as president , he certainly did his best to create the mystery that led to the question being asked . �years earlier , he billed himself as having been born in kenya . �maybe he thought it was a sexy way to sell books , get a foreign student scholarship , attract women � who knows ? �but it�s a fact that he boasted about it . � ( wnd ) the evidence ? it comes from a short bio that was �used by barack obama�s literary agency beginning in 1991 and ending in 2007 � the year he declared his candidacy for president . � here�s the first sentence of the opening paragraph ( breitbart ) : �barack obama , the first african-american president of the harvard law review , was born in kenya and raised in indonesia and hawaii . � obama-kenya-bio even snopes says it�s true . the editor of the short biography states that it �was a simple mistake and nothing more� to say that obama was born in kenya . i�ll'\n",
      "Score: 2.37941587142, text: 'alone � barack obama . � how is this possible ? �obama went to extreme lengths to conceal his past . and , indeed , if he was born in the u.s. and was eligible to serve as president , he certainly did his best to create the mystery that led to the question being asked . �years earlier , he billed himself as having been born in kenya . �maybe he thought it was a sexy way to sell books , get a foreign student scholarship , attract women � who knows ? �but it�s a fact that he boasted about it . � ( wnd ) the evidence ? it comes from a short bio that was �used by barack obama�s literary agency beginning in 1991 and ending in 2007 � the year he declared his candidacy for president . � here�s the first sentence of the opening paragraph ( breitbart ) : �barack obama , the first african-american president of the harvard law review , was born in kenya and raised in indonesia and hawaii . � obama-kenya-bio even snopes says it�s true . the editor of the short biography states that it �was a simple mistake and nothing more� to say that obama was born in kenya . i�ll take him at his word . i can�t take him at his word given what the two images below show . it remains a fact that there was a biography from a �client list acton dystel published in 1991� that states that obama was born in kenya that remained'\n",
      "Score: 0.605831283989, text: 'alone � barack obama . � how is this possible ? �obama went to extreme lengths to conceal his past . and , indeed , if he was born in the u.s. and was eligible to serve as president , he certainly did his best to create the mystery that led to the question being asked . �years earlier , he billed himself as having been born in kenya . �maybe he thought it was a sexy way to sell books , get a foreign student scholarship , attract women � who knows ? �but it�s a fact that he boasted about it . � ( wnd ) the evidence ? it comes from a short bio that was �used by barack obama�s literary agency beginning in 1991 and ending in 2007 � the year he declared his candidacy for president . � here�s the first sentence of the opening paragraph ( breitbart ) : �barack obama , the first african-american president of the harvard law review , was born in kenya and raised in indonesia and hawaii . � obama-kenya-bio even snopes says it�s true . the editor of the short biography states that it �was a simple mistake and nothing more� to say that obama was born in kenya . i�ll take him at his word . i can�t take him at his word given what the two images below show . it remains a fact that there was a biography from a �client list acton dystel published in 1991� that states that obama was born in kenya that remained unquestioned until 2007. obama himself had 16 years to disavow the information and call for a correction . it would have been unusual for a literary agency not to send a copy of the bio to obama for his approval . are we to believe that in 16 years in never saw the bio ? in addition , there is ample evidence that people inside the clinton campaign gave credence to the kenyan birther issue for political reasons in order to sabotage obama�s campaign . the media will continue to claim that hillary clinton had nothing to do with the birther issue because a lie is better than a trump presidency . update : the following images were posted on my facebook page . in this first image , in june 1998, jane dystel literary management company was still reporting that obama was born in kenya as recent'\n",
      "Score: 2.40450881785, text: 'alone � barack obama . � how is this possible ? �obama went to extreme lengths to conceal his past . and , indeed , if he was born in the u.s. and was eligible to serve as president , he certainly did his best to create the mystery that led to the question being asked . �years earlier , he billed himself as having been born in kenya . �maybe he thought it was a sexy way to sell books , get a foreign student scholarship , attract women � who knows ? �but it�s a fact that he boasted about it . � ( wnd ) the evidence ? it comes from a short bio that was �used by barack obama�s literary agency beginning in 1991 and ending in 2007 � the year he declared his candidacy for president . � here�s the first sentence of the opening paragraph ( breitbart ) : �barack obama , the first african-american president of the harvard law review , was born in kenya and raised in indonesia and hawaii . � obama-kenya-bio even snopes says it�s true . the editor of the short biography states that it �was a simple mistake and nothing more� to say that obama was born in kenya . i�ll take him at his word . i can�t take him at his word given what the two images below show . it remains a fact that there was a biography from a �client list acton dystel published in 1991� that states that obama was born in kenya that remained unquestioned until 2007. obama himself had 16 years to disavow the information and call for a correction . it would have been unusual for a literary agency not to send a copy of the bio to obama for his approval . are we to believe that in 16 years in never saw the bio ? in addition , there is ample evidence that people inside the clinton campaign gave credence to the kenyan birther issue for political reasons in order to sabotage obama�s campaign . the media will continue to claim that hillary clinton had nothing to do with the birther issue because a lie is better than a trump presidency . update : the following images were posted on my facebook page . in this first image , in june 1998, jane dystel literary management company was still reporting that obama was born in kenya as recent as 2007, dystel goderich literary management continued the narrative that obama was born in kenya : the'\n"
     ]
    }
   ],
   "source": [
    "for st_r in search_in_body:\n",
    "    for st in st_r:\n",
    "        if(st[2] > 0):\n",
    "            print \"Score: \" + str(st[2]) + \", text: '\" + st[3] + \"'\""
   ]
  }
 ],
 "metadata": {
  "kernelspec": {
   "display_name": "Python 2",
   "language": "python",
   "name": "python2"
  },
  "language_info": {
   "codemirror_mode": {
    "name": "ipython",
    "version": 2
   },
   "file_extension": ".py",
   "mimetype": "text/x-python",
   "name": "python",
   "nbconvert_exporter": "python",
   "pygments_lexer": "ipython2",
   "version": "2.7.12"
  }
 },
 "nbformat": 4,
 "nbformat_minor": 0
}
