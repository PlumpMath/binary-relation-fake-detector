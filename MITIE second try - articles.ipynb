{
 "cells": [
  {
   "cell_type": "code",
   "execution_count": 1,
   "metadata": {
    "collapsed": false
   },
   "outputs": [],
   "source": [
    "from article_lib import *"
   ]
  },
  {
   "cell_type": "code",
   "execution_count": 2,
   "metadata": {
    "collapsed": false
   },
   "outputs": [],
   "source": [
    "import glob\n",
    "\n",
    "articles = glob.glob(\"..\\\\Articles\\\\1\\\\*.xml\")"
   ]
  },
  {
   "cell_type": "code",
   "execution_count": 3,
   "metadata": {
    "collapsed": false
   },
   "outputs": [
    {
     "data": {
      "text/html": [
       "<div>\n",
       "<table border=\"1\" class=\"dataframe\">\n",
       "  <thead>\n",
       "    <tr style=\"text-align: right;\">\n",
       "      <th></th>\n",
       "      <th>source_id</th>\n",
       "      <th>binary_relation_id</th>\n",
       "      <th>is_revelation</th>\n",
       "      <th>title</th>\n",
       "      <th>url</th>\n",
       "      <th>body</th>\n",
       "    </tr>\n",
       "  </thead>\n",
       "  <tbody>\n",
       "    <tr>\n",
       "      <th>0</th>\n",
       "      <td>1.0</td>\n",
       "      <td>1.0</td>\n",
       "      <td>0.0</td>\n",
       "      <td>I was actually born in Kenya, says Obama</td>\n",
       "      <td>http://www.thedailymash.co.uk/news/internation...</td>\n",
       "      <td>BARACK Obama has admitted he was born in Kenya...</td>\n",
       "    </tr>\n",
       "    <tr>\n",
       "      <th>1</th>\n",
       "      <td>9.0</td>\n",
       "      <td>1.0</td>\n",
       "      <td>1.0</td>\n",
       "      <td>This Is How the Whole Birther Thing Actually S...</td>\n",
       "      <td>http://time.com/4496792/birther-rumor-started/</td>\n",
       "      <td>On Friday, an old conspiracy theory about Pres...</td>\n",
       "    </tr>\n",
       "    <tr>\n",
       "      <th>2</th>\n",
       "      <td>10.0</td>\n",
       "      <td>1.0</td>\n",
       "      <td>0.0</td>\n",
       "      <td>Surprise! I was born in Kenya says Barack Obama</td>\n",
       "      <td>http://rochdaleherald.co.uk/2017/01/21/surpris...</td>\n",
       "      <td>Barack Obama surprised the world today after a...</td>\n",
       "    </tr>\n",
       "    <tr>\n",
       "      <th>3</th>\n",
       "      <td>11.0</td>\n",
       "      <td>1.0</td>\n",
       "      <td>0.0</td>\n",
       "      <td>BARACK OBAMA'S KENYAN BIRTH CERTIFICATE</td>\n",
       "      <td>http://fourwinds10.com/siterun_data/government...</td>\n",
       "      <td>\\n\\this is part of what Obama has spent almost...</td>\n",
       "    </tr>\n",
       "    <tr>\n",
       "      <th>4</th>\n",
       "      <td>12.0</td>\n",
       "      <td>1.0</td>\n",
       "      <td>0.0</td>\n",
       "      <td>Barack Obama birthplace controversy</td>\n",
       "      <td>http://www.conservapedia.com/Barack_Obama_birt...</td>\n",
       "      <td>\\n\\tThe Barack Obama birthplace controversy is...</td>\n",
       "    </tr>\n",
       "  </tbody>\n",
       "</table>\n",
       "</div>"
      ],
      "text/plain": [
       "   source_id  binary_relation_id  is_revelation  \\\n",
       "0        1.0                 1.0            0.0   \n",
       "1        9.0                 1.0            1.0   \n",
       "2       10.0                 1.0            0.0   \n",
       "3       11.0                 1.0            0.0   \n",
       "4       12.0                 1.0            0.0   \n",
       "\n",
       "                                               title  \\\n",
       "0           I was actually born in Kenya, says Obama   \n",
       "1  This Is How the Whole Birther Thing Actually S...   \n",
       "2    Surprise! I was born in Kenya says Barack Obama   \n",
       "3            BARACK OBAMA'S KENYAN BIRTH CERTIFICATE   \n",
       "4                Barack Obama birthplace controversy   \n",
       "\n",
       "                                                 url  \\\n",
       "0  http://www.thedailymash.co.uk/news/internation...   \n",
       "1     http://time.com/4496792/birther-rumor-started/   \n",
       "2  http://rochdaleherald.co.uk/2017/01/21/surpris...   \n",
       "3  http://fourwinds10.com/siterun_data/government...   \n",
       "4  http://www.conservapedia.com/Barack_Obama_birt...   \n",
       "\n",
       "                                                body  \n",
       "0  BARACK Obama has admitted he was born in Kenya...  \n",
       "1  On Friday, an old conspiracy theory about Pres...  \n",
       "2  Barack Obama surprised the world today after a...  \n",
       "3  \\n\\this is part of what Obama has spent almost...  \n",
       "4  \\n\\tThe Barack Obama birthplace controversy is...  "
      ]
     },
     "execution_count": 3,
     "metadata": {},
     "output_type": "execute_result"
    }
   ],
   "source": [
    "df = read_list_of_articles_as_dataset(articles)\n",
    "df.head()"
   ]
  },
  {
   "cell_type": "code",
   "execution_count": 4,
   "metadata": {
    "collapsed": false
   },
   "outputs": [],
   "source": [
    "def join_binary_relations(df):\n",
    "    path_to_binary_rels = \"..\\\\Data\\\\fakes.csv\"\n",
    "    br = pd.read_csv(path_to_binary_rels)\n",
    "    joined = pd.merge(df, br, left_on=\"binary_relation_id\", right_on=\"Id\")\n",
    "    del joined[\"Id\"]\n",
    "    del joined[\"binary_relation_id\"]\n",
    "    del joined[\"Unnamed: 5\"]\n",
    "    return joined"
   ]
  },
  {
   "cell_type": "code",
   "execution_count": 5,
   "metadata": {
    "collapsed": false
   },
   "outputs": [
    {
     "data": {
      "text/html": [
       "<div>\n",
       "<table border=\"1\" class=\"dataframe\">\n",
       "  <thead>\n",
       "    <tr style=\"text-align: right;\">\n",
       "      <th></th>\n",
       "      <th>source_id</th>\n",
       "      <th>is_revelation</th>\n",
       "      <th>title</th>\n",
       "      <th>url</th>\n",
       "      <th>body</th>\n",
       "      <th>Subject</th>\n",
       "      <th>Predicate</th>\n",
       "      <th>Object</th>\n",
       "      <th>Link</th>\n",
       "    </tr>\n",
       "  </thead>\n",
       "  <tbody>\n",
       "    <tr>\n",
       "      <th>0</th>\n",
       "      <td>1.0</td>\n",
       "      <td>0.0</td>\n",
       "      <td>I was actually born in Kenya, says Obama</td>\n",
       "      <td>http://www.thedailymash.co.uk/news/internation...</td>\n",
       "      <td>BARACK Obama has admitted he was born in Kenya...</td>\n",
       "      <td>Barack Obama</td>\n",
       "      <td>BORN IN</td>\n",
       "      <td>Kenia</td>\n",
       "      <td>http://www.factcheck.org/2008/08/born-in-the-usa/</td>\n",
       "    </tr>\n",
       "    <tr>\n",
       "      <th>1</th>\n",
       "      <td>9.0</td>\n",
       "      <td>1.0</td>\n",
       "      <td>This Is How the Whole Birther Thing Actually S...</td>\n",
       "      <td>http://time.com/4496792/birther-rumor-started/</td>\n",
       "      <td>On Friday, an old conspiracy theory about Pres...</td>\n",
       "      <td>Barack Obama</td>\n",
       "      <td>BORN IN</td>\n",
       "      <td>Kenia</td>\n",
       "      <td>http://www.factcheck.org/2008/08/born-in-the-usa/</td>\n",
       "    </tr>\n",
       "    <tr>\n",
       "      <th>2</th>\n",
       "      <td>10.0</td>\n",
       "      <td>0.0</td>\n",
       "      <td>Surprise! I was born in Kenya says Barack Obama</td>\n",
       "      <td>http://rochdaleherald.co.uk/2017/01/21/surpris...</td>\n",
       "      <td>Barack Obama surprised the world today after a...</td>\n",
       "      <td>Barack Obama</td>\n",
       "      <td>BORN IN</td>\n",
       "      <td>Kenia</td>\n",
       "      <td>http://www.factcheck.org/2008/08/born-in-the-usa/</td>\n",
       "    </tr>\n",
       "    <tr>\n",
       "      <th>3</th>\n",
       "      <td>11.0</td>\n",
       "      <td>0.0</td>\n",
       "      <td>BARACK OBAMA'S KENYAN BIRTH CERTIFICATE</td>\n",
       "      <td>http://fourwinds10.com/siterun_data/government...</td>\n",
       "      <td>\\n\\this is part of what Obama has spent almost...</td>\n",
       "      <td>Barack Obama</td>\n",
       "      <td>BORN IN</td>\n",
       "      <td>Kenia</td>\n",
       "      <td>http://www.factcheck.org/2008/08/born-in-the-usa/</td>\n",
       "    </tr>\n",
       "    <tr>\n",
       "      <th>4</th>\n",
       "      <td>12.0</td>\n",
       "      <td>0.0</td>\n",
       "      <td>Barack Obama birthplace controversy</td>\n",
       "      <td>http://www.conservapedia.com/Barack_Obama_birt...</td>\n",
       "      <td>\\n\\tThe Barack Obama birthplace controversy is...</td>\n",
       "      <td>Barack Obama</td>\n",
       "      <td>BORN IN</td>\n",
       "      <td>Kenia</td>\n",
       "      <td>http://www.factcheck.org/2008/08/born-in-the-usa/</td>\n",
       "    </tr>\n",
       "  </tbody>\n",
       "</table>\n",
       "</div>"
      ],
      "text/plain": [
       "   source_id  is_revelation  \\\n",
       "0        1.0            0.0   \n",
       "1        9.0            1.0   \n",
       "2       10.0            0.0   \n",
       "3       11.0            0.0   \n",
       "4       12.0            0.0   \n",
       "\n",
       "                                               title  \\\n",
       "0           I was actually born in Kenya, says Obama   \n",
       "1  This Is How the Whole Birther Thing Actually S...   \n",
       "2    Surprise! I was born in Kenya says Barack Obama   \n",
       "3            BARACK OBAMA'S KENYAN BIRTH CERTIFICATE   \n",
       "4                Barack Obama birthplace controversy   \n",
       "\n",
       "                                                 url  \\\n",
       "0  http://www.thedailymash.co.uk/news/internation...   \n",
       "1     http://time.com/4496792/birther-rumor-started/   \n",
       "2  http://rochdaleherald.co.uk/2017/01/21/surpris...   \n",
       "3  http://fourwinds10.com/siterun_data/government...   \n",
       "4  http://www.conservapedia.com/Barack_Obama_birt...   \n",
       "\n",
       "                                                body       Subject Predicate  \\\n",
       "0  BARACK Obama has admitted he was born in Kenya...  Barack Obama   BORN IN   \n",
       "1  On Friday, an old conspiracy theory about Pres...  Barack Obama   BORN IN   \n",
       "2  Barack Obama surprised the world today after a...  Barack Obama   BORN IN   \n",
       "3  \\n\\this is part of what Obama has spent almost...  Barack Obama   BORN IN   \n",
       "4  \\n\\tThe Barack Obama birthplace controversy is...  Barack Obama   BORN IN   \n",
       "\n",
       "  Object                                               Link  \n",
       "0  Kenia  http://www.factcheck.org/2008/08/born-in-the-usa/  \n",
       "1  Kenia  http://www.factcheck.org/2008/08/born-in-the-usa/  \n",
       "2  Kenia  http://www.factcheck.org/2008/08/born-in-the-usa/  \n",
       "3  Kenia  http://www.factcheck.org/2008/08/born-in-the-usa/  \n",
       "4  Kenia  http://www.factcheck.org/2008/08/born-in-the-usa/  "
      ]
     },
     "execution_count": 5,
     "metadata": {},
     "output_type": "execute_result"
    }
   ],
   "source": [
    "df_joined = join_binary_relations(df)\n",
    "df_joined.head()"
   ]
  },
  {
   "cell_type": "code",
   "execution_count": 6,
   "metadata": {
    "collapsed": true
   },
   "outputs": [],
   "source": [
    "from mitie_lib import *\n",
    "\n",
    "import itertools\n",
    "import re\n",
    "\n",
    "\n",
    "def find_binary_relation_in_text(text, subject, object_, predicate):\n",
    "    tokens = get_tokens(text)\n",
    "    ner = get_ner()\n",
    "    entities = ner.extract_entities(tokens)\n",
    "\n",
    "    subject_positions = find_name_positions_in_text(text, entities, subject)\n",
    "    object_positions = find_name_positions_in_text(text, entities, object_)\n",
    "    \n",
    "    if(len(subject_positions) == 0 or len(object_positions) == 0):\n",
    "        return []\n",
    "    \n",
    "    results = []\n",
    "    rel_detector = binary_relation_type_to_model(predicate)\n",
    "    for subj, obj in itertools.product(subject_positions, object_positions):\n",
    "        rel = ner.extract_binary_relation(tokens, subj, obj)\n",
    "        \n",
    "        score = rel_detector(rel)\n",
    "        if (score > 0):\n",
    "            results.append((subj, obj, rel))\n",
    "            \n",
    "    return results\n",
    "\n",
    "\n",
    "def find_name_positions_in_text(text, entities, name):\n",
    "    positions = []\n",
    "    for entity in entities:\n",
    "        entity_name = extract_text_by_xrange(text, entity[0])\n",
    "        if(compare_names(name, entity_name)):\n",
    "            positions.append(entity)\n",
    "        \n",
    "    # if our name is not Named entity, try to find it in the text\n",
    "    for m in re.finditer(name, text):\n",
    "        p = xrange(m.start(), m.start() + len(name))\n",
    "        positions.append((p, \"UNKNOWN\"))"
   ]
  },
  {
   "cell_type": "code",
   "execution_count": 7,
   "metadata": {
    "collapsed": false
   },
   "outputs": [
    {
     "ename": "Exception",
     "evalue": "('Unable to load named entity extractor from D:\\\\Program Files\\\\mitieMITIE-models/english/ner_model.dat', u'occurred at index 0')",
     "output_type": "error",
     "traceback": [
      "\u001b[1;31m\u001b[0m",
      "\u001b[1;31mException\u001b[0mTraceback (most recent call last)",
      "\u001b[1;32m<ipython-input-7-4c078c9efe5e>\u001b[0m in \u001b[0;36m<module>\u001b[1;34m()\u001b[0m\n\u001b[1;32m----> 1\u001b[1;33m \u001b[0msearch_in_titles\u001b[0m \u001b[1;33m=\u001b[0m \u001b[0mdf_joined\u001b[0m\u001b[1;33m.\u001b[0m\u001b[0mapply\u001b[0m\u001b[1;33m(\u001b[0m\u001b[1;32mlambda\u001b[0m \u001b[0mrow\u001b[0m\u001b[1;33m:\u001b[0m \u001b[0mfind_binary_relation_in_text\u001b[0m\u001b[1;33m(\u001b[0m\u001b[0mrow\u001b[0m\u001b[1;33m[\u001b[0m\u001b[1;34m'title'\u001b[0m\u001b[1;33m]\u001b[0m\u001b[1;33m,\u001b[0m \u001b[0mrow\u001b[0m\u001b[1;33m[\u001b[0m\u001b[1;34m'Subject'\u001b[0m\u001b[1;33m]\u001b[0m\u001b[1;33m,\u001b[0m \u001b[0mrow\u001b[0m\u001b[1;33m[\u001b[0m\u001b[1;34m'Object'\u001b[0m\u001b[1;33m]\u001b[0m\u001b[1;33m,\u001b[0m \u001b[0mrow\u001b[0m\u001b[1;33m[\u001b[0m\u001b[1;34m'Predicate'\u001b[0m\u001b[1;33m]\u001b[0m\u001b[1;33m)\u001b[0m\u001b[1;33m,\u001b[0m \u001b[0maxis\u001b[0m\u001b[1;33m=\u001b[0m\u001b[1;36m1\u001b[0m\u001b[1;33m)\u001b[0m\u001b[1;33m\u001b[0m\u001b[0m\n\u001b[0m\u001b[0;32m      2\u001b[0m \u001b[0msearch_in_titles\u001b[0m\u001b[1;33m\u001b[0m\u001b[0m\n",
      "\u001b[1;32mC:\\Users\\Anatoliy\\Anaconda2\\lib\\site-packages\\pandas\\core\\frame.pyc\u001b[0m in \u001b[0;36mapply\u001b[1;34m(self, func, axis, broadcast, raw, reduce, args, **kwds)\u001b[0m\n\u001b[0;32m   4059\u001b[0m                     \u001b[1;32mif\u001b[0m \u001b[0mreduce\u001b[0m \u001b[1;32mis\u001b[0m \u001b[0mNone\u001b[0m\u001b[1;33m:\u001b[0m\u001b[1;33m\u001b[0m\u001b[0m\n\u001b[0;32m   4060\u001b[0m                         \u001b[0mreduce\u001b[0m \u001b[1;33m=\u001b[0m \u001b[0mTrue\u001b[0m\u001b[1;33m\u001b[0m\u001b[0m\n\u001b[1;32m-> 4061\u001b[1;33m                     \u001b[1;32mreturn\u001b[0m \u001b[0mself\u001b[0m\u001b[1;33m.\u001b[0m\u001b[0m_apply_standard\u001b[0m\u001b[1;33m(\u001b[0m\u001b[0mf\u001b[0m\u001b[1;33m,\u001b[0m \u001b[0maxis\u001b[0m\u001b[1;33m,\u001b[0m \u001b[0mreduce\u001b[0m\u001b[1;33m=\u001b[0m\u001b[0mreduce\u001b[0m\u001b[1;33m)\u001b[0m\u001b[1;33m\u001b[0m\u001b[0m\n\u001b[0m\u001b[0;32m   4062\u001b[0m             \u001b[1;32melse\u001b[0m\u001b[1;33m:\u001b[0m\u001b[1;33m\u001b[0m\u001b[0m\n\u001b[0;32m   4063\u001b[0m                 \u001b[1;32mreturn\u001b[0m \u001b[0mself\u001b[0m\u001b[1;33m.\u001b[0m\u001b[0m_apply_broadcast\u001b[0m\u001b[1;33m(\u001b[0m\u001b[0mf\u001b[0m\u001b[1;33m,\u001b[0m \u001b[0maxis\u001b[0m\u001b[1;33m)\u001b[0m\u001b[1;33m\u001b[0m\u001b[0m\n",
      "\u001b[1;32mC:\\Users\\Anatoliy\\Anaconda2\\lib\\site-packages\\pandas\\core\\frame.pyc\u001b[0m in \u001b[0;36m_apply_standard\u001b[1;34m(self, func, axis, ignore_failures, reduce)\u001b[0m\n\u001b[0;32m   4155\u001b[0m             \u001b[1;32mtry\u001b[0m\u001b[1;33m:\u001b[0m\u001b[1;33m\u001b[0m\u001b[0m\n\u001b[0;32m   4156\u001b[0m                 \u001b[1;32mfor\u001b[0m \u001b[0mi\u001b[0m\u001b[1;33m,\u001b[0m \u001b[0mv\u001b[0m \u001b[1;32min\u001b[0m \u001b[0menumerate\u001b[0m\u001b[1;33m(\u001b[0m\u001b[0mseries_gen\u001b[0m\u001b[1;33m)\u001b[0m\u001b[1;33m:\u001b[0m\u001b[1;33m\u001b[0m\u001b[0m\n\u001b[1;32m-> 4157\u001b[1;33m                     \u001b[0mresults\u001b[0m\u001b[1;33m[\u001b[0m\u001b[0mi\u001b[0m\u001b[1;33m]\u001b[0m \u001b[1;33m=\u001b[0m \u001b[0mfunc\u001b[0m\u001b[1;33m(\u001b[0m\u001b[0mv\u001b[0m\u001b[1;33m)\u001b[0m\u001b[1;33m\u001b[0m\u001b[0m\n\u001b[0m\u001b[0;32m   4158\u001b[0m                     \u001b[0mkeys\u001b[0m\u001b[1;33m.\u001b[0m\u001b[0mappend\u001b[0m\u001b[1;33m(\u001b[0m\u001b[0mv\u001b[0m\u001b[1;33m.\u001b[0m\u001b[0mname\u001b[0m\u001b[1;33m)\u001b[0m\u001b[1;33m\u001b[0m\u001b[0m\n\u001b[0;32m   4159\u001b[0m             \u001b[1;32mexcept\u001b[0m \u001b[0mException\u001b[0m \u001b[1;32mas\u001b[0m \u001b[0me\u001b[0m\u001b[1;33m:\u001b[0m\u001b[1;33m\u001b[0m\u001b[0m\n",
      "\u001b[1;32m<ipython-input-7-4c078c9efe5e>\u001b[0m in \u001b[0;36m<lambda>\u001b[1;34m(row)\u001b[0m\n\u001b[1;32m----> 1\u001b[1;33m \u001b[0msearch_in_titles\u001b[0m \u001b[1;33m=\u001b[0m \u001b[0mdf_joined\u001b[0m\u001b[1;33m.\u001b[0m\u001b[0mapply\u001b[0m\u001b[1;33m(\u001b[0m\u001b[1;32mlambda\u001b[0m \u001b[0mrow\u001b[0m\u001b[1;33m:\u001b[0m \u001b[0mfind_binary_relation_in_text\u001b[0m\u001b[1;33m(\u001b[0m\u001b[0mrow\u001b[0m\u001b[1;33m[\u001b[0m\u001b[1;34m'title'\u001b[0m\u001b[1;33m]\u001b[0m\u001b[1;33m,\u001b[0m \u001b[0mrow\u001b[0m\u001b[1;33m[\u001b[0m\u001b[1;34m'Subject'\u001b[0m\u001b[1;33m]\u001b[0m\u001b[1;33m,\u001b[0m \u001b[0mrow\u001b[0m\u001b[1;33m[\u001b[0m\u001b[1;34m'Object'\u001b[0m\u001b[1;33m]\u001b[0m\u001b[1;33m,\u001b[0m \u001b[0mrow\u001b[0m\u001b[1;33m[\u001b[0m\u001b[1;34m'Predicate'\u001b[0m\u001b[1;33m]\u001b[0m\u001b[1;33m)\u001b[0m\u001b[1;33m,\u001b[0m \u001b[0maxis\u001b[0m\u001b[1;33m=\u001b[0m\u001b[1;36m1\u001b[0m\u001b[1;33m)\u001b[0m\u001b[1;33m\u001b[0m\u001b[0m\n\u001b[0m\u001b[0;32m      2\u001b[0m \u001b[0msearch_in_titles\u001b[0m\u001b[1;33m\u001b[0m\u001b[0m\n",
      "\u001b[1;32m<ipython-input-6-2616326b9661>\u001b[0m in \u001b[0;36mfind_binary_relation_in_text\u001b[1;34m(text, subject, object_, predicate)\u001b[0m\n\u001b[0;32m      7\u001b[0m \u001b[1;32mdef\u001b[0m \u001b[0mfind_binary_relation_in_text\u001b[0m\u001b[1;33m(\u001b[0m\u001b[0mtext\u001b[0m\u001b[1;33m,\u001b[0m \u001b[0msubject\u001b[0m\u001b[1;33m,\u001b[0m \u001b[0mobject_\u001b[0m\u001b[1;33m,\u001b[0m \u001b[0mpredicate\u001b[0m\u001b[1;33m)\u001b[0m\u001b[1;33m:\u001b[0m\u001b[1;33m\u001b[0m\u001b[0m\n\u001b[0;32m      8\u001b[0m     \u001b[0mtokens\u001b[0m \u001b[1;33m=\u001b[0m \u001b[0mget_tokens\u001b[0m\u001b[1;33m(\u001b[0m\u001b[0mtext\u001b[0m\u001b[1;33m)\u001b[0m\u001b[1;33m\u001b[0m\u001b[0m\n\u001b[1;32m----> 9\u001b[1;33m     \u001b[0mner\u001b[0m \u001b[1;33m=\u001b[0m \u001b[0mget_ner\u001b[0m\u001b[1;33m(\u001b[0m\u001b[1;33m)\u001b[0m\u001b[1;33m\u001b[0m\u001b[0m\n\u001b[0m\u001b[0;32m     10\u001b[0m     \u001b[0mentities\u001b[0m \u001b[1;33m=\u001b[0m \u001b[0mner\u001b[0m\u001b[1;33m.\u001b[0m\u001b[0mextract_entities\u001b[0m\u001b[1;33m(\u001b[0m\u001b[0mtokens\u001b[0m\u001b[1;33m)\u001b[0m\u001b[1;33m\u001b[0m\u001b[0m\n\u001b[0;32m     11\u001b[0m \u001b[1;33m\u001b[0m\u001b[0m\n",
      "\u001b[1;32mD:\\DRIVE\\MS CS UCU\\Data Engineering\\Project\\Sources\\mitie_lib.py\u001b[0m in \u001b[0;36mget_ner\u001b[1;34m()\u001b[0m\n\u001b[0;32m     39\u001b[0m     \u001b[1;32mglobal\u001b[0m \u001b[0mner_extractor\u001b[0m\u001b[1;33m\u001b[0m\u001b[0m\n\u001b[0;32m     40\u001b[0m     \u001b[1;32mif\u001b[0m \u001b[0mner_extractor\u001b[0m \u001b[1;32mis\u001b[0m \u001b[0mNone\u001b[0m\u001b[1;33m:\u001b[0m\u001b[1;33m\u001b[0m\u001b[0m\n\u001b[1;32m---> 41\u001b[1;33m         \u001b[0mner_extractor\u001b[0m \u001b[1;33m=\u001b[0m \u001b[0mnamed_entity_extractor\u001b[0m\u001b[1;33m(\u001b[0m\u001b[0mmitie_path\u001b[0m \u001b[1;33m+\u001b[0m \u001b[1;34m'MITIE-models/english/ner_model.dat'\u001b[0m\u001b[1;33m)\u001b[0m\u001b[1;33m\u001b[0m\u001b[0m\n\u001b[0m\u001b[0;32m     42\u001b[0m     \u001b[1;32mreturn\u001b[0m \u001b[0mner_extractor\u001b[0m\u001b[1;33m\u001b[0m\u001b[0m\n\u001b[0;32m     43\u001b[0m \u001b[1;33m\u001b[0m\u001b[0m\n",
      "\u001b[1;32mD:\\Program Files\\mitie\\mitie.pyc\u001b[0m in \u001b[0;36m__init__\u001b[1;34m(self, filename)\u001b[0m\n\u001b[0;32m    176\u001b[0m             \u001b[0mself\u001b[0m\u001b[1;33m.\u001b[0m\u001b[0m__obj\u001b[0m \u001b[1;33m=\u001b[0m \u001b[0m_f\u001b[0m\u001b[1;33m.\u001b[0m\u001b[0mmitie_load_named_entity_extractor\u001b[0m\u001b[1;33m(\u001b[0m\u001b[0mfilename\u001b[0m\u001b[1;33m)\u001b[0m\u001b[1;33m\u001b[0m\u001b[0m\n\u001b[0;32m    177\u001b[0m         \u001b[1;32mif\u001b[0m \u001b[1;33m(\u001b[0m\u001b[0mself\u001b[0m\u001b[1;33m.\u001b[0m\u001b[0m__obj\u001b[0m \u001b[1;33m==\u001b[0m \u001b[0mNone\u001b[0m\u001b[1;33m)\u001b[0m\u001b[1;33m:\u001b[0m\u001b[1;33m\u001b[0m\u001b[0m\n\u001b[1;32m--> 178\u001b[1;33m             \u001b[1;32mraise\u001b[0m \u001b[0mException\u001b[0m\u001b[1;33m(\u001b[0m\u001b[1;34m\"Unable to load named entity extractor from \"\u001b[0m \u001b[1;33m+\u001b[0m \u001b[0mfilename\u001b[0m\u001b[1;33m)\u001b[0m\u001b[1;33m\u001b[0m\u001b[0m\n\u001b[0m\u001b[0;32m    179\u001b[0m \u001b[1;33m\u001b[0m\u001b[0m\n\u001b[0;32m    180\u001b[0m     \u001b[1;32mdef\u001b[0m \u001b[0m__del__\u001b[0m\u001b[1;33m(\u001b[0m\u001b[0mself\u001b[0m\u001b[1;33m)\u001b[0m\u001b[1;33m:\u001b[0m\u001b[1;33m\u001b[0m\u001b[0m\n",
      "\u001b[1;31mException\u001b[0m: ('Unable to load named entity extractor from D:\\\\Program Files\\\\mitieMITIE-models/english/ner_model.dat', u'occurred at index 0')"
     ]
    }
   ],
   "source": [
    "search_in_titles = df_joined.apply(lambda row: find_binary_relation_in_text(row['title'], row['Subject'], row['Object'], row['Predicate']), axis=1)\n",
    "search_in_titles"
   ]
  },
  {
   "cell_type": "code",
   "execution_count": 8,
   "metadata": {
    "collapsed": false
   },
   "outputs": [
    {
     "data": {
      "text/plain": [
       "'D:\\\\Program Files\\\\mitie'"
      ]
     },
     "execution_count": 8,
     "metadata": {},
     "output_type": "execute_result"
    }
   ],
   "source": []
  },
  {
   "cell_type": "code",
   "execution_count": null,
   "metadata": {
    "collapsed": true
   },
   "outputs": [],
   "source": []
  }
 ],
 "metadata": {
  "kernelspec": {
   "display_name": "Python 2",
   "language": "python",
   "name": "python2"
  },
  "language_info": {
   "codemirror_mode": {
    "name": "ipython",
    "version": 2
   },
   "file_extension": ".py",
   "mimetype": "text/x-python",
   "name": "python",
   "nbconvert_exporter": "python",
   "pygments_lexer": "ipython2",
   "version": "2.7.12"
  }
 },
 "nbformat": 4,
 "nbformat_minor": 0
}
